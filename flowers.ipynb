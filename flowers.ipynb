{
 "cells": [
  {
   "cell_type": "code",
   "execution_count": 4,
   "metadata": {},
   "outputs": [],
   "source": [
    "# downloading the website directly from kaggle.\n",
    "# it installs it on my computer\n",
    "from kaggle.api.kaggle_api_extended import KaggleApi\n",
    "\n",
    "api = KaggleApi()\n",
    "api.authenticate()"
   ]
  },
  {
   "cell_type": "code",
   "execution_count": 21,
   "metadata": {},
   "outputs": [],
   "source": [
    "files = api.dataset_download_files(\"alxmamaev/flowers-recognition\")\n",
    "# beware of whether you are downloading from a competition or from a dataset. separate fct's\n",
    "#api.competition_download_files"
   ]
  },
  {
   "cell_type": "code",
   "execution_count": 15,
   "metadata": {},
   "outputs": [
    {
     "name": "stdout",
     "output_type": "stream",
     "text": [
      "flower-classification-with-tpus,Prizes,None\n"
     ]
    }
   ],
   "source": [
    "import kaggle\n",
    "#competitions = api.competitions_list(search='cat',category=\"playground\")\n",
    "competitions = api.competitions_list(search='flowers')\n",
    "# competitions is a list of competition objects.\n",
    "# iterate though each item to access individual competition\n",
    "for comp in competitions:\n",
    "    print(comp.ref,comp.reward,comp.userRank,sep=',')"
   ]
  },
  {
   "cell_type": "code",
   "execution_count": 18,
   "metadata": {},
   "outputs": [
    {
     "name": "stdout",
     "output_type": "stream",
     "text": [
      "alxmamaev/flowers-recognition,185661,896\n",
      "cdeotte/oxford-flowers-tfrecords,1108,37\n",
      "mgornergoogle/five-flowers,1806,13\n",
      "saidakbarp/17-category-flowers,5323,14\n",
      "msheriey/104-flowers-garden-of-eden,2077,25\n",
      "arshid/iris-flower-dataset,95217,214\n",
      "spaics/hackathon-blossom-flower-classification,5202,21\n",
      "ianmoone0617/flower-goggle-tpu-classification,1606,10\n",
      "olgabelitskaya/flower-color-images,30882,116\n",
      "lenine/flower-102diffspecies-dataset,2574,9\n",
      "allenjie/flowers17,485,2\n",
      "aksha05/flower-image-dataset,596,4\n",
      "gverzea/edible-wild-plants,12228,55\n",
      "apollo2506/flowers-recognition-dataset,38,2\n",
      "msheriey/104-flowers-submissions,216,4\n",
      "vikrishnan/iris-dataset,8218,20\n",
      "calebeverett/flowers-tpu-openimage-tfrecords,204,4\n",
      "calebeverett/flowers-tta,140,1\n",
      "alimodd/flower-shop-dataset,1815,6\n",
      "rishitchs/final-flowers-course-project-dataset,174,4\n"
     ]
    }
   ],
   "source": [
    "datasets=api.dataset_list(search='flowers')\n",
    " \n",
    "# datasets is a collection of dataset\n",
    "for dat in  datasets:\n",
    "     print(dat.ref,dat.viewCount,dat.voteCount,sep=',')"
   ]
  },
  {
   "cell_type": "code",
   "execution_count": null,
   "metadata": {},
   "outputs": [],
   "source": [
    "%%capture # should be the first line in the cell, nothing can come before it. not even comments\n",
    "# supresses the output of this cell\n",
    "\n",
    "!unzip zippo.zip\n",
    "# https://technowhisp.com/kaggle-api-python-documentation/\n",
    "# how to use the kaggle's python api"
   ]
  },
  {
   "cell_type": "code",
   "execution_count": 23,
   "metadata": {},
   "outputs": [
    {
     "name": "stdout",
     "output_type": "stream"
    }
   ],
   "source": [
    "%%capture # supresses the output of this cell\n",
    "!unzip flowers-recognition.zip"
   ]
  },
  {
   "cell_type": "code",
   "execution_count": 42,
   "metadata": {},
   "outputs": [],
   "source": [
    "import os\n",
    "\n",
    "train_path = os.path.abspath(\"flowers/Training\")\n",
    "img_width, img_height = 150, 150 # i tested a bunch of different sizes"
   ]
  },
  {
   "cell_type": "code",
   "execution_count": 53,
   "metadata": {},
   "outputs": [],
   "source": [
    "import tensorflow as tf\n",
    "model = tf.keras.models.Sequential([\n",
    "    # conv layer 1\n",
    "    tf.keras.layers.Conv2D(32, (3,3), activation='relu', input_shape=(img_width, img_height, 3)),\n",
    "    tf.keras.layers.MaxPooling2D(2, 2),\n",
    "    tf.keras.layers.BatchNormalization(),\n",
    "    tf.keras.layers.Dropout(0.2),\n",
    "    \n",
    "    # conv layer 2\n",
    "    tf.keras.layers.Conv2D(64, (3,3), activation='relu'),\n",
    "    tf.keras.layers.MaxPooling2D(2,2),\n",
    "    tf.keras.layers.BatchNormalization(),\n",
    "    tf.keras.layers.Dropout(0.2),\n",
    "    \n",
    "    # conv layer 3\n",
    "    tf.keras.layers.Conv2D(128, (3,3), activation='relu'), # changed 128 to 64 here. maybe gon help with\n",
    "    # undergitting\n",
    "    tf.keras.layers.MaxPooling2D(2,2),\n",
    "    tf.keras.layers.BatchNormalization(),\n",
    "    \n",
    "    # conv layer 4\n",
    "    tf.keras.layers.Conv2D(128, (3,3), activation='relu'),\n",
    "    tf.keras.layers.MaxPooling2D(2,2),\n",
    "    tf.keras.layers.BatchNormalization(),\n",
    "    \n",
    "    tf.keras.layers.Flatten(),\n",
    "    # dense layer 1\n",
    "    tf.keras.layers.Dense(512, activation='relu'), # 512 - 256 - 512\n",
    "    tf.keras.layers.BatchNormalization(),\n",
    "    # why do we actually add the fully-connected layer before the output?\n",
    "    # so we can process all the data linearly? we essentially condensed the whole image\n",
    "    # into a really small image using the conv and pooling layers.\n",
    "    # so to make an actual prediction, we need to \"process\" the data in that image.\n",
    "    # which we haven't done. we just made the image less sparse\n",
    "    tf.keras.layers.Dropout(0.2),\n",
    "    \n",
    "    # dense layer 2\n",
    "    tf.keras.layers.Dense(128, activation='relu'),\n",
    "    tf.keras.layers.BatchNormalization(),\n",
    "    tf.keras.layers.Dropout(0.2),\n",
    "    \n",
    "    # prediction layer\n",
    "    tf.keras.layers.Dense(5, activation='softmax') # 6 classes\n",
    "])"
   ]
  },
  {
   "cell_type": "code",
   "execution_count": 54,
   "metadata": {},
   "outputs": [],
   "source": [
    "model.compile(loss='categorical_crossentropy',\n",
    "              optimizer=tf.keras.optimizers.Adam(lr=0.001),\n",
    "              metrics=['accuracy'])"
   ]
  },
  {
   "cell_type": "code",
   "execution_count": 46,
   "metadata": {},
   "outputs": [],
   "source": [
    "from tensorflow.keras.preprocessing.image import ImageDataGenerator\n",
    "train_datagen = ImageDataGenerator(1./255, # normalize the data\n",
    "                                   # but how do i know that 255 is the max value? what if it's smth else?\n",
    "                                   # or is it always 255?\n",
    "                                   validation_split = 0.2,\n",
    "                                   rotation_range=40,\n",
    "                                   width_shift_range=0.2, height_shift_range=0.2, \n",
    "                                   shear_range=0.2, zoom_range=0.2,\n",
    "                                   horizontal_flip=True, fill_mode='nearest'\n",
    "                                  )"
   ]
  },
  {
   "cell_type": "code",
   "execution_count": 47,
   "metadata": {},
   "outputs": [
    {
     "name": "stdout",
     "output_type": "stream",
     "text": [
      "Found 3462 images belonging to 5 classes.\n",
      "Found 861 images belonging to 5 classes.\n"
     ]
    }
   ],
   "source": [
    "train_generator = train_datagen.flow_from_directory(\n",
    "        train_path,  # This is the source directory for training images\n",
    "        batch_size=50, # increased the batch size from 16 to 50\n",
    "        target_size = (img_width, img_height),\n",
    "        class_mode='categorical',\n",
    "        subset = \"training\")\n",
    "\n",
    "# Flow validation images in batches of 20 using test_datagen generator\n",
    "validation_generator = train_datagen.flow_from_directory(\n",
    "        train_path,\n",
    "        batch_size=50,\n",
    "        target_size = (img_width, img_height),\n",
    "        class_mode='categorical',\n",
    "        subset = \"validation\")"
   ]
  },
  {
   "cell_type": "code",
   "execution_count": 55,
   "metadata": {},
   "outputs": [
    {
     "name": "stdout",
     "output_type": "stream",
     "text": [
      "Epoch 1/20\n",
      "50/50 - 60s - loss: 1.5244 - accuracy: 0.4310 - val_loss: 5.8461 - val_accuracy: 0.2600\n",
      "Epoch 2/20\n",
      "50/50 - 58s - loss: 1.2358 - accuracy: 0.5068 - val_loss: 2.1905 - val_accuracy: 0.4320\n",
      "Epoch 3/20\n",
      "50/50 - 59s - loss: 1.1690 - accuracy: 0.5406 - val_loss: 1.2832 - val_accuracy: 0.5200\n",
      "Epoch 4/20\n",
      "50/50 - 55s - loss: 1.0868 - accuracy: 0.5670 - val_loss: 1.3498 - val_accuracy: 0.5400\n",
      "Epoch 5/20\n",
      "50/50 - 56s - loss: 1.0490 - accuracy: 0.5820 - val_loss: 1.2077 - val_accuracy: 0.5740\n",
      "Epoch 6/20\n",
      "50/50 - 54s - loss: 0.9722 - accuracy: 0.6129 - val_loss: 1.1245 - val_accuracy: 0.6360\n",
      "Epoch 7/20\n",
      "50/50 - 53s - loss: 0.9443 - accuracy: 0.6344 - val_loss: 1.2125 - val_accuracy: 0.5740\n",
      "Epoch 8/20\n",
      "50/50 - 56s - loss: 0.8972 - accuracy: 0.6556 - val_loss: 1.1008 - val_accuracy: 0.5900\n",
      "Epoch 9/20\n",
      "50/50 - 56s - loss: 0.8940 - accuracy: 0.6487 - val_loss: 1.0163 - val_accuracy: 0.5940\n",
      "Epoch 10/20\n",
      "50/50 - 64s - loss: 0.8300 - accuracy: 0.6832 - val_loss: 1.0497 - val_accuracy: 0.6180\n",
      "Epoch 11/20\n",
      "50/50 - 57s - loss: 0.8386 - accuracy: 0.6742 - val_loss: 1.2081 - val_accuracy: 0.6080\n",
      "Epoch 12/20\n",
      "50/50 - 57s - loss: 0.8279 - accuracy: 0.6792 - val_loss: 0.9110 - val_accuracy: 0.6560\n",
      "Epoch 13/20\n",
      "50/50 - 57s - loss: 0.8066 - accuracy: 0.6929 - val_loss: 1.0187 - val_accuracy: 0.6200\n",
      "Epoch 14/20\n",
      "50/50 - 56s - loss: 0.8260 - accuracy: 0.6832 - val_loss: 1.3646 - val_accuracy: 0.5640\n",
      "Epoch 15/20\n",
      "50/50 - 57s - loss: 0.7721 - accuracy: 0.7120 - val_loss: 0.9869 - val_accuracy: 0.6240\n",
      "Epoch 16/20\n",
      "50/50 - 57s - loss: 0.7735 - accuracy: 0.6852 - val_loss: 1.5952 - val_accuracy: 0.4800\n",
      "Epoch 17/20\n",
      "50/50 - 57s - loss: 0.7716 - accuracy: 0.7100 - val_loss: 0.9913 - val_accuracy: 0.6220\n",
      "Epoch 18/20\n",
      "50/50 - 52s - loss: 0.7633 - accuracy: 0.6994 - val_loss: 1.0837 - val_accuracy: 0.6120\n",
      "Epoch 19/20\n",
      "50/50 - 53s - loss: 0.7295 - accuracy: 0.7161 - val_loss: 1.2624 - val_accuracy: 0.5240\n",
      "Epoch 20/20\n",
      "50/50 - 58s - loss: 0.7522 - accuracy: 0.7080 - val_loss: 0.8503 - val_accuracy: 0.6580\n"
     ]
    }
   ],
   "source": [
    "history = model.fit(\n",
    "      train_generator,\n",
    "      steps_per_epoch=50, # Total number of steps (batches of samples) before declaring one epoch finished and starting the next epoch\n",
    "      epochs=20,\n",
    "      validation_data=validation_generator,\n",
    "      shuffle = True,\n",
    "      validation_steps=10, # Total number of steps (batches of samples) to draw before stopping when performing validation at the end of every epoch \n",
    "      verbose=2)"
   ]
  },
  {
   "cell_type": "code",
   "execution_count": null,
   "metadata": {},
   "outputs": [],
   "source": [
    "#model.save(\"flowers.h5\")\n",
    "from tensorflow.keras.models import load_model\n",
    "model = load_model(\"flowers.h5\")"
   ]
  },
  {
   "cell_type": "code",
   "execution_count": 82,
   "metadata": {},
   "outputs": [
    {
     "name": "stdout",
     "output_type": "stream",
     "text": [
      "/Users/elenabukreeva/Desktop/jupyter/flowers/Training\n",
      "   1 .DS_Store\n",
      " 769 daisy\n",
      " 784 rose\n",
      " 984 tulip\n",
      "1055 dandelion\n",
      " 734 sunflower\n"
     ]
    }
   ],
   "source": [
    "#%cd flowers/Training\n",
    "!cd /Users/elenabukreeva/Desktop/jupyter\n",
    "!pwd\n",
    "!find . -type f | cut -d\"/\" -f2 | uniq -c\n",
    "#!ls  /Users/elenabukreeva/Desktop/jupyter/flowers/Training/*| xargs -n1 ls | wc -l"
   ]
  },
  {
   "cell_type": "code",
   "execution_count": 93,
   "metadata": {},
   "outputs": [
    {
     "name": "stderr",
     "output_type": "stream",
     "text": [
      "/Users/elenabukreeva/Library/Python/3.7/lib/python/site-packages/keras_preprocessing/image/image_data_generator.py:720: UserWarning: This ImageDataGenerator specifies `featurewise_center`, but it hasn't been fit on any training data. Fit it first by calling `.fit(numpy_data)`.\n",
      "  warnings.warn('This ImageDataGenerator specifies '\n"
     ]
    },
    {
     "name": "stdout",
     "output_type": "stream",
     "text": [
      "Epoch 101/120\n",
      "50/50 - 51s - loss: 0.2884 - accuracy: 0.8976 - val_loss: 0.8604 - val_accuracy: 0.7360\n",
      "Epoch 102/120\n",
      "50/50 - 53s - loss: 0.2565 - accuracy: 0.9052 - val_loss: 0.7753 - val_accuracy: 0.7840\n",
      "Epoch 103/120\n",
      "50/50 - 61s - loss: 0.2497 - accuracy: 0.9100 - val_loss: 0.8058 - val_accuracy: 0.7560\n",
      "Epoch 104/120\n",
      "50/50 - 78s - loss: 0.2273 - accuracy: 0.9124 - val_loss: 0.6584 - val_accuracy: 0.7780\n",
      "Epoch 105/120\n",
      "50/50 - 69s - loss: 0.2357 - accuracy: 0.9143 - val_loss: 1.0760 - val_accuracy: 0.7100\n",
      "Epoch 106/120\n",
      "50/50 - 61s - loss: 0.2590 - accuracy: 0.9013 - val_loss: 0.6585 - val_accuracy: 0.7840\n",
      "Epoch 107/120\n",
      "50/50 - 63s - loss: 0.2249 - accuracy: 0.9124 - val_loss: 0.8951 - val_accuracy: 0.7460\n",
      "Epoch 108/120\n",
      "50/50 - 64s - loss: 0.2533 - accuracy: 0.9100 - val_loss: 0.6871 - val_accuracy: 0.7760\n",
      "Epoch 109/120\n",
      "50/50 - 62s - loss: 0.2100 - accuracy: 0.9257 - val_loss: 0.7333 - val_accuracy: 0.7740\n",
      "Epoch 110/120\n",
      "50/50 - 61s - loss: 0.2450 - accuracy: 0.9127 - val_loss: 0.7684 - val_accuracy: 0.7600\n",
      "Epoch 111/120\n",
      "50/50 - 66s - loss: 0.2601 - accuracy: 0.9090 - val_loss: 0.8158 - val_accuracy: 0.7680\n",
      "Epoch 112/120\n",
      "50/50 - 68s - loss: 0.2774 - accuracy: 0.8940 - val_loss: 0.8311 - val_accuracy: 0.7600\n",
      "Epoch 113/120\n",
      "50/50 - 69s - loss: 0.2360 - accuracy: 0.9159 - val_loss: 0.6570 - val_accuracy: 0.8200\n",
      "Epoch 114/120\n",
      "50/50 - 66s - loss: 0.2226 - accuracy: 0.9175 - val_loss: 0.6909 - val_accuracy: 0.8000\n",
      "Epoch 115/120\n",
      "50/50 - 64s - loss: 0.2394 - accuracy: 0.9167 - val_loss: 0.9360 - val_accuracy: 0.7540\n",
      "Epoch 116/120\n",
      "50/50 - 65s - loss: 0.2440 - accuracy: 0.9098 - val_loss: 0.7299 - val_accuracy: 0.7780\n",
      "Epoch 117/120\n",
      "50/50 - 60s - loss: 0.2245 - accuracy: 0.9180 - val_loss: 0.5662 - val_accuracy: 0.7920\n",
      "Epoch 118/120\n",
      "50/50 - 60s - loss: 0.2480 - accuracy: 0.9074 - val_loss: 0.7709 - val_accuracy: 0.7620\n",
      "Epoch 119/120\n",
      "50/50 - 63s - loss: 0.2086 - accuracy: 0.9232 - val_loss: 0.9019 - val_accuracy: 0.7520\n",
      "Epoch 120/120\n",
      "50/50 - 61s - loss: 0.2205 - accuracy: 0.9212 - val_loss: 0.8764 - val_accuracy: 0.7800\n"
     ]
    }
   ],
   "source": [
    "history1 = model.fit(\n",
    "      train_generator,\n",
    "      steps_per_epoch=50, # Total number of steps (batches of samples) before declaring one epoch finished and starting the next epoch\n",
    "      epochs=120,\n",
    "      initial_epoch = 100,\n",
    "      validation_data=validation_generator,\n",
    "      shuffle = True,\n",
    "      validation_steps=10, # Total number of steps (batches of samples) to draw before stopping when performing validation at the end of every epoch \n",
    "      verbose=2)"
   ]
  },
  {
   "cell_type": "code",
   "execution_count": 92,
   "metadata": {},
   "outputs": [
    {
     "data": {
      "image/png": "[encoded data removed]",
      "text/plain": [
       "<Figure size 432x288 with 1 Axes>"
      ]
     },
     "metadata": {
      "needs_background": "light"
     },
     "output_type": "display_data"
    }
   ],
   "source": [
    "import matplotlib.pyplot as plt\n",
    "acc = history1.history['accuracy']\n",
    "val_acc = history1.history['val_accuracy']\n",
    "\n",
    "epochs = range(len(acc))\n",
    "\n",
    "plt.plot(epochs, acc, 'r', label='Training accuracy')\n",
    "plt.plot(epochs, val_acc, 'b', label='Validation accuracy')\n",
    "\n",
    "plt.xlabel('Epochs')\n",
    "plt.ylabel('Accuracy')\n",
    "plt.title('Training and validation accuracy')\n",
    "plt.legend(loc=0)\n",
    "plt.grid(axis='both')\n",
    "\n",
    "plt.show() "
   ]
  },
  {
   "cell_type": "code",
   "execution_count": null,
   "metadata": {},
   "outputs": [],
   "source": [
    "# https://www.kaggle.com/hammaadali/short-custom-cnn-flowers-recognition-model"
   ]
  },
  {
   "cell_type": "code",
   "execution_count": 42,
   "metadata": {},
   "outputs": [],
   "source": [
    "WEIGHTS_PATH = ('https://github.com/fchollet/deep-learning-models/releases/download/v0.2/resnet50_weights_tf_dim_ordering_tf_kernels.h5')\n",
    "WEIGHTS_PATH_NO_TOP = ('https://github.com/fchollet/deep-learning-models/releases/download/v0.2/resnet50_weights_tf_dim_ordering_tf_kernels_notop.h5')"
   ]
  },
  {
   "cell_type": "code",
   "execution_count": 50,
   "metadata": {},
   "outputs": [
    {
     "ename": "ValueError",
     "evalue": "Shapes (1, 1, 256, 512) and (512, 128, 1, 1) are incompatible",
     "output_type": "error",
     "traceback": [
      "\u001b[0;31m---------------------------------------------------------------------------\u001b[0m",
      "\u001b[0;31mValueError\u001b[0m                                Traceback (most recent call last)",
      "\u001b[0;32m<ipython-input-50-cbf280f67f19>\u001b[0m in \u001b[0;36m<module>\u001b[0;34m\u001b[0m\n\u001b[1;32m      2\u001b[0m \u001b[0mimg_width\u001b[0m\u001b[0;34m,\u001b[0m \u001b[0mimg_height\u001b[0m \u001b[0;34m=\u001b[0m \u001b[0;36m224\u001b[0m\u001b[0;34m,\u001b[0m \u001b[0;36m224\u001b[0m \u001b[0;31m# resnet50 input\u001b[0m\u001b[0;34m\u001b[0m\u001b[0m\n\u001b[1;32m      3\u001b[0m inception_base = applications.ResNet50(weights=\"weights_pretrained/resnet50_weights_notop.h5\",\n\u001b[0;32m----> 4\u001b[0;31m                                        include_top=False, input_shape = (224, 224, 3))\n\u001b[0m",
      "\u001b[0;32m~/Library/Python/3.7/lib/python/site-packages/tensorflow/python/keras/applications/resnet.py\u001b[0m in \u001b[0;36mResNet50\u001b[0;34m(include_top, weights, input_tensor, input_shape, pooling, classes, **kwargs)\u001b[0m\n\u001b[1;32m    473\u001b[0m \u001b[0;34m\u001b[0m\u001b[0m\n\u001b[1;32m    474\u001b[0m   return ResNet(stack_fn, False, True, 'resnet50', include_top, weights,\n\u001b[0;32m--> 475\u001b[0;31m                 input_tensor, input_shape, pooling, classes, **kwargs)\n\u001b[0m\u001b[1;32m    476\u001b[0m \u001b[0;34m\u001b[0m\u001b[0m\n\u001b[1;32m    477\u001b[0m \u001b[0;34m\u001b[0m\u001b[0m\n",
      "\u001b[0;32m~/Library/Python/3.7/lib/python/site-packages/tensorflow/python/keras/applications/resnet.py\u001b[0m in \u001b[0;36mResNet\u001b[0;34m(stack_fn, preact, use_bias, model_name, include_top, weights, input_tensor, input_shape, pooling, classes, classifier_activation, **kwargs)\u001b[0m\n\u001b[1;32m    222\u001b[0m     \u001b[0mmodel\u001b[0m\u001b[0;34m.\u001b[0m\u001b[0mload_weights\u001b[0m\u001b[0;34m(\u001b[0m\u001b[0mweights_path\u001b[0m\u001b[0;34m)\u001b[0m\u001b[0;34m\u001b[0m\u001b[0m\n\u001b[1;32m    223\u001b[0m   \u001b[0;32melif\u001b[0m \u001b[0mweights\u001b[0m \u001b[0;32mis\u001b[0m \u001b[0;32mnot\u001b[0m \u001b[0;32mNone\u001b[0m\u001b[0;34m:\u001b[0m\u001b[0;34m\u001b[0m\u001b[0m\n\u001b[0;32m--> 224\u001b[0;31m     \u001b[0mmodel\u001b[0m\u001b[0;34m.\u001b[0m\u001b[0mload_weights\u001b[0m\u001b[0;34m(\u001b[0m\u001b[0mweights\u001b[0m\u001b[0;34m)\u001b[0m\u001b[0;34m\u001b[0m\u001b[0m\n\u001b[0m\u001b[1;32m    225\u001b[0m \u001b[0;34m\u001b[0m\u001b[0m\n\u001b[1;32m    226\u001b[0m   \u001b[0;32mreturn\u001b[0m \u001b[0mmodel\u001b[0m\u001b[0;34m\u001b[0m\u001b[0m\n",
      "\u001b[0;32m~/Library/Python/3.7/lib/python/site-packages/tensorflow/python/keras/engine/training.py\u001b[0m in \u001b[0;36mload_weights\u001b[0;34m(self, filepath, by_name, skip_mismatch, options)\u001b[0m\n\u001b[1;32m   2209\u001b[0m             f, self.layers, skip_mismatch=skip_mismatch)\n\u001b[1;32m   2210\u001b[0m       \u001b[0;32melse\u001b[0m\u001b[0;34m:\u001b[0m\u001b[0;34m\u001b[0m\u001b[0m\n\u001b[0;32m-> 2211\u001b[0;31m         \u001b[0mhdf5_format\u001b[0m\u001b[0;34m.\u001b[0m\u001b[0mload_weights_from_hdf5_group\u001b[0m\u001b[0;34m(\u001b[0m\u001b[0mf\u001b[0m\u001b[0;34m,\u001b[0m \u001b[0mself\u001b[0m\u001b[0;34m.\u001b[0m\u001b[0mlayers\u001b[0m\u001b[0;34m)\u001b[0m\u001b[0;34m\u001b[0m\u001b[0m\n\u001b[0m\u001b[1;32m   2212\u001b[0m \u001b[0;34m\u001b[0m\u001b[0m\n\u001b[1;32m   2213\u001b[0m   \u001b[0;32mdef\u001b[0m \u001b[0m_updated_config\u001b[0m\u001b[0;34m(\u001b[0m\u001b[0mself\u001b[0m\u001b[0;34m)\u001b[0m\u001b[0;34m:\u001b[0m\u001b[0;34m\u001b[0m\u001b[0m\n",
      "\u001b[0;32m~/Library/Python/3.7/lib/python/site-packages/tensorflow/python/keras/saving/hdf5_format.py\u001b[0m in \u001b[0;36mload_weights_from_hdf5_group\u001b[0;34m(f, layers)\u001b[0m\n\u001b[1;32m    706\u001b[0m                        str(len(weight_values)) + ' elements.')\n\u001b[1;32m    707\u001b[0m     \u001b[0mweight_value_tuples\u001b[0m \u001b[0;34m+=\u001b[0m \u001b[0mzip\u001b[0m\u001b[0;34m(\u001b[0m\u001b[0msymbolic_weights\u001b[0m\u001b[0;34m,\u001b[0m \u001b[0mweight_values\u001b[0m\u001b[0;34m)\u001b[0m\u001b[0;34m\u001b[0m\u001b[0m\n\u001b[0;32m--> 708\u001b[0;31m   \u001b[0mK\u001b[0m\u001b[0;34m.\u001b[0m\u001b[0mbatch_set_value\u001b[0m\u001b[0;34m(\u001b[0m\u001b[0mweight_value_tuples\u001b[0m\u001b[0;34m)\u001b[0m\u001b[0;34m\u001b[0m\u001b[0m\n\u001b[0m\u001b[1;32m    709\u001b[0m \u001b[0;34m\u001b[0m\u001b[0m\n\u001b[1;32m    710\u001b[0m \u001b[0;34m\u001b[0m\u001b[0m\n",
      "\u001b[0;32m~/Library/Python/3.7/lib/python/site-packages/tensorflow/python/util/dispatch.py\u001b[0m in \u001b[0;36mwrapper\u001b[0;34m(*args, **kwargs)\u001b[0m\n\u001b[1;32m    199\u001b[0m     \u001b[0;34m\"\"\"Call target, and fall back on dispatchers if there is a TypeError.\"\"\"\u001b[0m\u001b[0;34m\u001b[0m\u001b[0m\n\u001b[1;32m    200\u001b[0m     \u001b[0;32mtry\u001b[0m\u001b[0;34m:\u001b[0m\u001b[0;34m\u001b[0m\u001b[0m\n\u001b[0;32m--> 201\u001b[0;31m       \u001b[0;32mreturn\u001b[0m \u001b[0mtarget\u001b[0m\u001b[0;34m(\u001b[0m\u001b[0;34m*\u001b[0m\u001b[0margs\u001b[0m\u001b[0;34m,\u001b[0m \u001b[0;34m**\u001b[0m\u001b[0mkwargs\u001b[0m\u001b[0;34m)\u001b[0m\u001b[0;34m\u001b[0m\u001b[0m\n\u001b[0m\u001b[1;32m    202\u001b[0m     \u001b[0;32mexcept\u001b[0m \u001b[0;34m(\u001b[0m\u001b[0mTypeError\u001b[0m\u001b[0;34m,\u001b[0m \u001b[0mValueError\u001b[0m\u001b[0;34m)\u001b[0m\u001b[0;34m:\u001b[0m\u001b[0;34m\u001b[0m\u001b[0m\n\u001b[1;32m    203\u001b[0m       \u001b[0;31m# Note: convert_to_eager_tensor currently raises a ValueError, not a\u001b[0m\u001b[0;34m\u001b[0m\u001b[0;34m\u001b[0m\u001b[0m\n",
      "\u001b[0;32m~/Library/Python/3.7/lib/python/site-packages/tensorflow/python/keras/backend.py\u001b[0m in \u001b[0;36mbatch_set_value\u001b[0;34m(tuples)\u001b[0m\n\u001b[1;32m   3574\u001b[0m   \u001b[0;32mif\u001b[0m \u001b[0mops\u001b[0m\u001b[0;34m.\u001b[0m\u001b[0mexecuting_eagerly_outside_functions\u001b[0m\u001b[0;34m(\u001b[0m\u001b[0;34m)\u001b[0m\u001b[0;34m:\u001b[0m\u001b[0;34m\u001b[0m\u001b[0m\n\u001b[1;32m   3575\u001b[0m     \u001b[0;32mfor\u001b[0m \u001b[0mx\u001b[0m\u001b[0;34m,\u001b[0m \u001b[0mvalue\u001b[0m \u001b[0;32min\u001b[0m \u001b[0mtuples\u001b[0m\u001b[0;34m:\u001b[0m\u001b[0;34m\u001b[0m\u001b[0m\n\u001b[0;32m-> 3576\u001b[0;31m       \u001b[0mx\u001b[0m\u001b[0;34m.\u001b[0m\u001b[0massign\u001b[0m\u001b[0;34m(\u001b[0m\u001b[0mnp\u001b[0m\u001b[0;34m.\u001b[0m\u001b[0masarray\u001b[0m\u001b[0;34m(\u001b[0m\u001b[0mvalue\u001b[0m\u001b[0;34m,\u001b[0m \u001b[0mdtype\u001b[0m\u001b[0;34m=\u001b[0m\u001b[0mdtype\u001b[0m\u001b[0;34m(\u001b[0m\u001b[0mx\u001b[0m\u001b[0;34m)\u001b[0m\u001b[0;34m)\u001b[0m\u001b[0;34m)\u001b[0m\u001b[0;34m\u001b[0m\u001b[0m\n\u001b[0m\u001b[1;32m   3577\u001b[0m   \u001b[0;32melse\u001b[0m\u001b[0;34m:\u001b[0m\u001b[0;34m\u001b[0m\u001b[0m\n\u001b[1;32m   3578\u001b[0m     \u001b[0;32mwith\u001b[0m \u001b[0mget_graph\u001b[0m\u001b[0;34m(\u001b[0m\u001b[0;34m)\u001b[0m\u001b[0;34m.\u001b[0m\u001b[0mas_default\u001b[0m\u001b[0;34m(\u001b[0m\u001b[0;34m)\u001b[0m\u001b[0;34m:\u001b[0m\u001b[0;34m\u001b[0m\u001b[0m\n",
      "\u001b[0;32m~/Library/Python/3.7/lib/python/site-packages/tensorflow/python/ops/resource_variable_ops.py\u001b[0m in \u001b[0;36massign\u001b[0;34m(self, value, use_locking, name, read_value)\u001b[0m\n\u001b[1;32m    856\u001b[0m     \u001b[0;32mwith\u001b[0m \u001b[0m_handle_graph\u001b[0m\u001b[0;34m(\u001b[0m\u001b[0mself\u001b[0m\u001b[0;34m.\u001b[0m\u001b[0mhandle\u001b[0m\u001b[0;34m)\u001b[0m\u001b[0;34m:\u001b[0m\u001b[0;34m\u001b[0m\u001b[0m\n\u001b[1;32m    857\u001b[0m       \u001b[0mvalue_tensor\u001b[0m \u001b[0;34m=\u001b[0m \u001b[0mops\u001b[0m\u001b[0;34m.\u001b[0m\u001b[0mconvert_to_tensor\u001b[0m\u001b[0;34m(\u001b[0m\u001b[0mvalue\u001b[0m\u001b[0;34m,\u001b[0m \u001b[0mdtype\u001b[0m\u001b[0;34m=\u001b[0m\u001b[0mself\u001b[0m\u001b[0;34m.\u001b[0m\u001b[0mdtype\u001b[0m\u001b[0;34m)\u001b[0m\u001b[0;34m\u001b[0m\u001b[0m\n\u001b[0;32m--> 858\u001b[0;31m       \u001b[0mself\u001b[0m\u001b[0;34m.\u001b[0m\u001b[0m_shape\u001b[0m\u001b[0;34m.\u001b[0m\u001b[0massert_is_compatible_with\u001b[0m\u001b[0;34m(\u001b[0m\u001b[0mvalue_tensor\u001b[0m\u001b[0;34m.\u001b[0m\u001b[0mshape\u001b[0m\u001b[0;34m)\u001b[0m\u001b[0;34m\u001b[0m\u001b[0m\n\u001b[0m\u001b[1;32m    859\u001b[0m       assign_op = gen_resource_variable_ops.assign_variable_op(\n\u001b[1;32m    860\u001b[0m           self.handle, value_tensor, name=name)\n",
      "\u001b[0;32m~/Library/Python/3.7/lib/python/site-packages/tensorflow/python/framework/tensor_shape.py\u001b[0m in \u001b[0;36massert_is_compatible_with\u001b[0;34m(self, other)\u001b[0m\n\u001b[1;32m   1132\u001b[0m     \"\"\"\n\u001b[1;32m   1133\u001b[0m     \u001b[0;32mif\u001b[0m \u001b[0;32mnot\u001b[0m \u001b[0mself\u001b[0m\u001b[0;34m.\u001b[0m\u001b[0mis_compatible_with\u001b[0m\u001b[0;34m(\u001b[0m\u001b[0mother\u001b[0m\u001b[0;34m)\u001b[0m\u001b[0;34m:\u001b[0m\u001b[0;34m\u001b[0m\u001b[0m\n\u001b[0;32m-> 1134\u001b[0;31m       \u001b[0;32mraise\u001b[0m \u001b[0mValueError\u001b[0m\u001b[0;34m(\u001b[0m\u001b[0;34m\"Shapes %s and %s are incompatible\"\u001b[0m \u001b[0;34m%\u001b[0m \u001b[0;34m(\u001b[0m\u001b[0mself\u001b[0m\u001b[0;34m,\u001b[0m \u001b[0mother\u001b[0m\u001b[0;34m)\u001b[0m\u001b[0;34m)\u001b[0m\u001b[0;34m\u001b[0m\u001b[0m\n\u001b[0m\u001b[1;32m   1135\u001b[0m \u001b[0;34m\u001b[0m\u001b[0m\n\u001b[1;32m   1136\u001b[0m   \u001b[0;32mdef\u001b[0m \u001b[0mmost_specific_compatible_shape\u001b[0m\u001b[0;34m(\u001b[0m\u001b[0mself\u001b[0m\u001b[0;34m,\u001b[0m \u001b[0mother\u001b[0m\u001b[0;34m)\u001b[0m\u001b[0;34m:\u001b[0m\u001b[0;34m\u001b[0m\u001b[0m\n",
      "\u001b[0;31mValueError\u001b[0m: Shapes (1, 1, 256, 512) and (512, 128, 1, 1) are incompatible"
     ]
    }
   ],
   "source": [
    "from tensorflow.keras import applications\n",
    "img_width, img_height = 224, 224 # resnet50 input\n",
    "inception_base = applications.ResNet50(weights=\"weights_pretrained/resnet50_weights_notop.h5\",\n",
    "                                       include_top=False, input_shape = (224, 224, 3))"
   ]
  },
  {
   "cell_type": "code",
   "execution_count": null,
   "metadata": {},
   "outputs": [],
   "source": [
    "# tasks:\n",
    "# figure out how to test the accuracy on the test set\n",
    "# common patterns among the architectures\n",
    "# why does mine not work\n",
    "\n",
    "# steps per epoch, val steps. how can i balance the speed of training each epoch with the \n",
    "# effectiveness of each epoch\n",
    "\n",
    "\n",
    "# try two dense layers instead of one"
   ]
  }
 ],
 "metadata": {
  "kernelspec": {
   "display_name": "Python 3",
   "language": "python",
   "name": "python3"
  },
  "language_info": {
   "codemirror_mode": {
    "name": "ipython",
    "version": 3
   },
   "file_extension": ".py",
   "mimetype": "text/x-python",
   "name": "python",
   "nbconvert_exporter": "python",
   "pygments_lexer": "ipython3",
   "version": "3.7.0"
  }
 },
 "nbformat": 4,
 "nbformat_minor": 4
}
