{
 "cells": [
  {
   "cell_type": "code",
   "execution_count": 19,
   "metadata": {},
   "outputs": [],
   "source": [
    "import os\n",
    "\n",
    "train_path = os.path.abspath(\"fruits-360/Training\")\n",
    "test_path = os.path.abspath(\"fruits-360/Test\")"
   ]
  },
  {
   "cell_type": "code",
   "execution_count": 2,
   "metadata": {},
   "outputs": [
    {
     "name": "stdout",
     "output_type": "stream",
     "text": [
      "     131\n",
      "Apple Braeburn\n",
      "Watermelon\n"
     ]
    }
   ],
   "source": [
    "!ls fruits-360/Training | wc -l # the amount of files in the folder\n",
    "a = !ls fruits-360/Training\n",
    "print(a[0])\n",
    "print(a[130])"
   ]
  },
  {
   "cell_type": "code",
   "execution_count": 155,
   "metadata": {},
   "outputs": [],
   "source": [
    "from random import sample\n",
    "\n",
    "# check the amount of files in the folder. if there is only 100 files in the folder, skip it\n",
    "# so all folders will have 100 pics in them.\n",
    "\n",
    "# maybe you can write a function later for practice that removes files till there's a select\n",
    "# amount of files\n",
    "# cause right now i have like 35 images in every folder, which might not be enough for training\n",
    "\n",
    "# like a while loop that checks all folders. and while at least one of the folders has\n",
    "# more than 100 images in it, the whole code runs\n",
    "\n",
    "def reduce_folder_size_by_increment(files, path, allowed_min, incr):\n",
    "    i = 0\n",
    "    for fruit in files:\n",
    "        if len(os.listdir(os.path.join(path,fruit)))- incr < allowed_min:\n",
    "                continue\n",
    "        for photo in sample(os.listdir(os.path.join(path,fruit)), incr):\n",
    "            if os.path.exists(os.path.join(path,fruit)):\n",
    "                os.remove(path+\"/\"+fruit+\"/\"+photo)\n",
    "                i+= 1\n",
    "            else:\n",
    "                i+= 1\n",
    "    print(f\"{i} photos were removed in this function run.\")\n",
    "files = os.listdir(train_path)\n",
    "files.remove(\".DS_Store\")\n"
   ]
  },
  {
   "cell_type": "code",
   "execution_count": 164,
   "metadata": {},
   "outputs": [
    {
     "name": "stdout",
     "output_type": "stream",
     "text": [
      "0 photos were removed in this function run.\n"
     ]
    }
   ],
   "source": [
    "# this lists every single folder\n",
    "# .ds_store is some weird internal folder\n",
    "reduce_folder_size_by_increment(files, train_path, 100, 100)\n"
   ]
  },
  {
   "cell_type": "code",
   "execution_count": 167,
   "metadata": {},
   "outputs": [
    {
     "name": "stdout",
     "output_type": "stream",
     "text": [
      "0 photos were removed in this function run.\n"
     ]
    }
   ],
   "source": [
    "reduce_folder_size_by_increment(files, test_path, 100, 100)\n"
   ]
  },
  {
   "cell_type": "code",
   "execution_count": 6,
   "metadata": {},
   "outputs": [
    {
     "name": "stdout",
     "output_type": "stream",
     "text": [
      "Tomato 4 160\n",
      "Apple Red Delicious 166\n",
      "Tomato 3 146\n",
      "Huckleberry 166\n",
      "Blueberry 154\n",
      "Pear Red 122\n",
      "Banana Lady Finger 152\n",
      "Melon Piel de Sapo 146\n",
      "Pear 164\n",
      "Cherry 1 164\n",
      "Strawberry 164\n",
      "Nut Forest 118\n",
      "Avocado 143\n",
      "Tomato 2 125\n",
      "Pomegranate 164\n",
      "Dates 166\n",
      "Carambula 166\n",
      "Potato Red Washed 151\n",
      "Granadilla 166\n",
      "Kohlrabi 157\n",
      "Tamarillo 166\n",
      "Pepper Red 122\n",
      "Fig 134\n",
      "Ginger Root 99\n",
      "Kiwi 156\n",
      "Cherry Wax Yellow 164\n",
      "Lemon 164\n",
      "Guava 166\n",
      "Apple Golden 2 164\n",
      "Pear Stone 137\n",
      "Apple Red 1 164\n",
      "Cauliflower 134\n",
      "Mandarine 166\n",
      "Quince 166\n",
      "Strawberry Wedge 146\n",
      "Pear Monster 166\n",
      "Raspberry 166\n",
      "Pitahaya Red 166\n",
      "Nut Pecan 178\n",
      "Apple Golden 3 161\n",
      "Redcurrant 164\n",
      "Apple Red Yellow 1 164\n",
      "Pepper Yellow 122\n",
      "Grape Pink 164\n",
      "Banana Red 166\n",
      "Cucumber Ripe 2 156\n",
      "Physalis 164\n",
      "Cherry Rainier 146\n",
      "Maracuja 166\n",
      "Chestnut 153\n",
      "Plum 151\n",
      "Potato Sweet 150\n",
      "Cucumber Ripe 130\n",
      "Hazelnut 157\n",
      "Nectarine 164\n",
      "Cherry Wax Black 164\n",
      "Cantaloupe 2 164\n",
      "Lychee 166\n",
      "Pepper Orange 134\n",
      "Clementine 166\n",
      "Watermelon 157\n",
      "Pear Kaiser 102\n",
      "Mangostan 102\n",
      "Cherry 2 146\n",
      "Pineapple Mini 163\n",
      "Rambutan 164\n",
      "Grape White 166\n",
      "Tomato Yellow 153\n",
      "Apple Braeburn 164\n",
      "Tomato Maroon 127\n",
      "Onion White 146\n",
      "Onion Red Peeled 155\n",
      "Mango 166\n",
      "Potato White 150\n",
      "Apple Crimson Snow 148\n",
      "Potato Red 150\n",
      "Corn Husk 154\n",
      "Cocos 166\n",
      "Mulberry 164\n",
      "Avocado ripe 166\n",
      "Tomato 1 146\n",
      "Passion Fruit 166\n",
      "Apple Granny Smith 164\n",
      "Beetroot 150\n",
      "Kumquats 166\n",
      "Grape White 2 166\n",
      "Apricot 164\n",
      "Eggplant 156\n",
      "Limes 166\n",
      "Corn 150\n",
      "Grape White 4 158\n",
      "Grape White 3 164\n",
      "Tomato Heart 128\n",
      "Apple Pink Lady 152\n",
      "Plum 3 104\n",
      "Pear Williams 166\n",
      "Tomato not Ripened 158\n",
      "Peach 2 146\n",
      "Pomelo Sweetie 153\n",
      "Salak 162\n",
      "Grapefruit Pink 166\n",
      "Apple Golden 1 160\n",
      "Banana 166\n",
      "Apple Red 2 164\n",
      "Onion Red 150\n",
      "Physalis with Husk 164\n",
      "Apple Red Yellow 2 119\n",
      "Grape Blue 128\n",
      "Lemon Meyer 166\n",
      "Plum 2 142\n",
      "Pepino 166\n",
      "Tangelo 166\n",
      "Cactus fruit 166\n",
      "Papaya 164\n",
      "Apple Red 3 144\n",
      "Walnut 149\n",
      "Pear Abate 166\n",
      "Pear 2 132\n",
      "Pear Forelle 134\n",
      "Pineapple 166\n",
      "Tomato Cherry Red 164\n",
      "Cherry Wax Red 164\n",
      "Mango Red 142\n",
      "Orange 160\n",
      "Nectarine Flat 160\n",
      "Kaki 166\n",
      "Pepper Green 148\n",
      "Grapefruit White 164\n",
      "Peach 164\n",
      "Cantaloupe 1 164\n",
      "Peach Flat 164\n"
     ]
    }
   ],
   "source": [
    "# prints the amount of files in each folder\n",
    "mn = 20\n",
    "folders = ([name for name in os.listdir(test_path)\n",
    "            if os.path.isdir(os.path.join(test_path, name))]) # get all directories \n",
    "for folder in folders:\n",
    "    contents = os.listdir(os.path.join(test_path,folder)) # get list of contents\n",
    "    if len(contents) > mn: # if greater than the limit, print folder and number of contents\n",
    "        print(folder,len(contents))"
   ]
  },
  {
   "cell_type": "code",
   "execution_count": 169,
   "metadata": {},
   "outputs": [
    {
     "name": "stdout",
     "output_type": "stream",
     "text": [
      "Tomato 4 148\n",
      "Apple Red Delicious 160\n",
      "Tomato 3 108\n",
      "Huckleberry 160\n",
      "Blueberry 132\n",
      "Pear Red 136\n",
      "Banana Lady Finger 120\n",
      "Melon Piel de Sapo 108\n",
      "Pear 162\n",
      "Cherry 1 162\n",
      "Strawberry 162\n",
      "Nut Forest 124\n",
      "Avocado 197\n",
      "Tomato 2 142\n",
      "Pomegranate 162\n",
      "Dates 160\n",
      "Carambula 160\n",
      "Potato Red Washed 123\n",
      "Granadilla 190\n",
      "Kohlrabi 171\n",
      "Tamarillo 190\n",
      "Pepper Red 166\n",
      "Fig 102\n",
      "Ginger Root 197\n",
      "Kiwi 166\n",
      "Cherry Wax Yellow 192\n",
      "Lemon 192\n",
      "Guava 190\n",
      "Apple Golden 2 192\n",
      "Pear Stone 111\n",
      "Apple Red 1 192\n",
      "Cauliflower 102\n",
      "Mandarine 190\n",
      "Quince 190\n",
      "Strawberry Wedge 138\n",
      "Pear Monster 190\n",
      "Raspberry 190\n",
      "Pitahaya Red 190\n",
      "Nut Pecan 134\n",
      "Apple Golden 3 181\n",
      "Redcurrant 192\n",
      "Apple Red Yellow 1 192\n",
      "Pepper Yellow 166\n",
      "Grape Pink 192\n",
      "Banana Red 190\n",
      "Cucumber Ripe 2 168\n",
      "Physalis 192\n",
      "Cherry Rainier 138\n",
      "Maracuja 190\n",
      "Chestnut 150\n",
      "Plum 147\n",
      "Potato Sweet 150\n",
      "Cucumber Ripe 192\n",
      "Hazelnut 164\n",
      "Nectarine 192\n",
      "Cherry Wax Black 192\n",
      "Cantaloupe 2 192\n",
      "Lychee 190\n",
      "Pepper Orange 102\n",
      "Clementine 190\n",
      "Watermelon 175\n",
      "Pear Kaiser 100\n",
      "Mangostan 100\n",
      "Cherry 2 138\n",
      "Pineapple Mini 193\n",
      "Rambutan 192\n",
      "Grape White 190\n",
      "Tomato Yellow 159\n",
      "Apple Braeburn 193\n",
      "Tomato Maroon 167\n",
      "Onion White 138\n",
      "Onion Red Peeled 145\n",
      "Mango 190\n",
      "Potato White 150\n",
      "Apple Crimson Snow 144\n",
      "Potato Red 150\n",
      "Corn Husk 162\n",
      "Cocos 190\n",
      "Mulberry 192\n",
      "Avocado ripe 191\n",
      "Tomato 1 138\n",
      "Passion Fruit 190\n",
      "Apple Granny Smith 192\n",
      "Beetroot 150\n",
      "Kumquats 190\n",
      "Grape White 2 190\n",
      "Apricot 192\n",
      "Eggplant 168\n",
      "Limes 190\n",
      "Corn 150\n",
      "Grape White 4 171\n",
      "Grape White 3 192\n",
      "Tomato Heart 184\n",
      "Apple Pink Lady 156\n",
      "Plum 3 100\n",
      "Pear Williams 190\n",
      "Tomato not Ripened 174\n",
      "Peach 2 138\n",
      "Pomelo Sweetie 150\n",
      "Salak 190\n",
      "Grapefruit Pink 190\n",
      "Apple Golden 1 180\n",
      "Banana 190\n",
      "Apple Red 2 192\n",
      "Onion Red 150\n",
      "Physalis with Husk 192\n",
      "Apple Red Yellow 2 172\n",
      "Grape Blue 184\n",
      "Lemon Meyer 190\n",
      "Plum 2 120\n",
      "Pepino 190\n",
      "Tangelo 190\n",
      "Cactus fruit 190\n",
      "Papaya 192\n",
      "Apple Red 3 129\n",
      "Walnut 135\n",
      "Pear Abate 190\n",
      "Pear 2 196\n",
      "Pear Forelle 102\n",
      "Pineapple 190\n",
      "Tomato Cherry Red 192\n",
      "Cherry Wax Red 192\n",
      "Mango Red 126\n",
      "Orange 179\n",
      "Nectarine Flat 180\n",
      "Kaki 190\n",
      "Pepper Green 144\n",
      "Grapefruit White 192\n",
      "Peach 192\n",
      "Cantaloupe 1 192\n",
      "Peach Flat 192\n"
     ]
    }
   ],
   "source": [
    "mn = 20\n",
    "folders = ([name for name in os.listdir(train_path)\n",
    "            if os.path.isdir(os.path.join(train_path, name))]) # get all directories \n",
    "for folder in folders:\n",
    "    contents = os.listdir(os.path.join(train_path,folder)) # get list of contents\n",
    "    if len(contents) > mn: # if greater than the limit, print folder and number of contents\n",
    "        print(folder,len(contents))"
   ]
  },
  {
   "cell_type": "code",
   "execution_count": 20,
   "metadata": {},
   "outputs": [],
   "source": [
    "# this overfits to the train set even with the dropout layers\n",
    "import tensorflow as tf\n",
    "model = tf.keras.models.Sequential([\n",
    "    tf.keras.layers.Conv2D(32, (3,3), activation='relu', input_shape=(256, 256, 3)),\n",
    "    tf.keras.layers.MaxPooling2D(2, 2),\n",
    "    tf.keras.layers.Dropout(0.2),\n",
    "    \n",
    "    tf.keras.layers.Conv2D(64, (3,3), activation='relu'),\n",
    "    tf.keras.layers.MaxPooling2D(2,2),\n",
    "    tf.keras.layers.Dropout(0.2),\n",
    "    \n",
    "    tf.keras.layers.Conv2D(128, (3,3), activation='relu'),\n",
    "    tf.keras.layers.MaxPooling2D(2,2),\n",
    "    tf.keras.layers.Dropout(0.2),\n",
    "    \n",
    "    tf.keras.layers.Conv2D(128, (3,3), activation='relu'),\n",
    "    tf.keras.layers.MaxPooling2D(2,2),\n",
    "    tf.keras.layers.Dropout(0.2),\n",
    "    \n",
    "    tf.keras.layers.Flatten(),\n",
    "    \n",
    "    tf.keras.layers.Dense(512, activation='relu'),\n",
    "    tf.keras.layers.Dropout(0.5),\n",
    "    tf.keras.layers.Dense(131, activation='softmax') # 131 classes\n",
    "])"
   ]
  },
  {
   "cell_type": "code",
   "execution_count": 32,
   "metadata": {},
   "outputs": [
    {
     "name": "stdout",
     "output_type": "stream",
     "text": [
      "Model: \"sequential_3\"\n",
      "_________________________________________________________________\n",
      "Layer (type)                 Output Shape              Param #   \n",
      "=================================================================\n",
      "conv2d_12 (Conv2D)           (None, 254, 254, 32)      896       \n",
      "_________________________________________________________________\n",
      "max_pooling2d_12 (MaxPooling (None, 127, 127, 32)      0         \n",
      "_________________________________________________________________\n",
      "dropout_5 (Dropout)          (None, 127, 127, 32)      0         \n",
      "_________________________________________________________________\n",
      "conv2d_13 (Conv2D)           (None, 125, 125, 64)      18496     \n",
      "_________________________________________________________________\n",
      "max_pooling2d_13 (MaxPooling (None, 62, 62, 64)        0         \n",
      "_________________________________________________________________\n",
      "dropout_6 (Dropout)          (None, 62, 62, 64)        0         \n",
      "_________________________________________________________________\n",
      "conv2d_14 (Conv2D)           (None, 60, 60, 128)       73856     \n",
      "_________________________________________________________________\n",
      "max_pooling2d_14 (MaxPooling (None, 30, 30, 128)       0         \n",
      "_________________________________________________________________\n",
      "dropout_7 (Dropout)          (None, 30, 30, 128)       0         \n",
      "_________________________________________________________________\n",
      "conv2d_15 (Conv2D)           (None, 28, 28, 128)       147584    \n",
      "_________________________________________________________________\n",
      "max_pooling2d_15 (MaxPooling (None, 14, 14, 128)       0         \n",
      "_________________________________________________________________\n",
      "dropout_8 (Dropout)          (None, 14, 14, 128)       0         \n",
      "_________________________________________________________________\n",
      "flatten_3 (Flatten)          (None, 25088)             0         \n",
      "_________________________________________________________________\n",
      "dense_6 (Dense)              (None, 512)               12845568  \n",
      "_________________________________________________________________\n",
      "dense_7 (Dense)              (None, 131)               67203     \n",
      "=================================================================\n",
      "Total params: 13,153,603\n",
      "Trainable params: 13,153,603\n",
      "Non-trainable params: 0\n",
      "_________________________________________________________________\n"
     ]
    }
   ],
   "source": [
    "model.summary()"
   ]
  },
  {
   "cell_type": "code",
   "execution_count": 36,
   "metadata": {},
   "outputs": [],
   "source": [
    "model.compile(loss='categorical_crossentropy',\n",
    "              optimizer=\"adam\",\n",
    "              metrics=['accuracy'])"
   ]
  },
  {
   "cell_type": "code",
   "execution_count": 21,
   "metadata": {},
   "outputs": [],
   "source": [
    "from tensorflow.keras.preprocessing.image import ImageDataGenerator\n",
    "train_datagen = ImageDataGenerator(1/255) # normalize the data\n",
    "test_datagen = ImageDataGenerator(1/255)\n",
    "# https://keras.io/api/preprocessing/image/\n",
    "# generate batches of tensor image data with real-time data augmentation"
   ]
  },
  {
   "cell_type": "code",
   "execution_count": 22,
   "metadata": {},
   "outputs": [
    {
     "name": "stdout",
     "output_type": "stream",
     "text": [
      "Found 21952 images belonging to 131 classes.\n",
      "Found 20188 images belonging to 131 classes.\n"
     ]
    }
   ],
   "source": [
    "train_generator = train_datagen.flow_from_directory(\n",
    "        train_path,  # This is the source directory for training images  # All images will be resized to 150x150\n",
    "        batch_size=50,\n",
    "        # Since we use binary_crossentropy loss, we need binary labels\n",
    "        class_mode='categorical')\n",
    "\n",
    "# Flow validation images in batches of 20 using test_datagen generator\n",
    "validation_generator = test_datagen.flow_from_directory(\n",
    "        test_path,\n",
    "        batch_size=50,\n",
    "        class_mode='categorical')\n",
    "# flow_from_directory can be used if the directory is set up as train and test folders, \n",
    "# both folders have folders inside of images for each class"
   ]
  },
  {
   "cell_type": "code",
   "execution_count": 37,
   "metadata": {},
   "outputs": [
    {
     "name": "stdout",
     "output_type": "stream",
     "text": [
      "Epoch 1/10\n",
      "100/100 - 318s - loss: 14.6219 - accuracy: 0.0324 - val_loss: 4.4446 - val_accuracy: 0.0692\n",
      "Epoch 2/10\n",
      "100/100 - 347s - loss: 4.2792 - accuracy: 0.0930 - val_loss: 4.0034 - val_accuracy: 0.1204\n",
      "Epoch 3/10\n",
      "100/100 - 309s - loss: 3.7992 - accuracy: 0.1556 - val_loss: 3.6148 - val_accuracy: 0.2032\n",
      "Epoch 4/10\n",
      "100/100 - 328s - loss: 3.2147 - accuracy: 0.2508 - val_loss: 3.2135 - val_accuracy: 0.2500\n",
      "Epoch 5/10\n",
      "100/100 - 280s - loss: 2.7412 - accuracy: 0.3304 - val_loss: 2.9257 - val_accuracy: 0.2928\n",
      "Epoch 6/10\n",
      "100/100 - 270s - loss: 2.3157 - accuracy: 0.4064 - val_loss: 3.2711 - val_accuracy: 0.2220\n",
      "Epoch 7/10\n",
      "100/100 - 271s - loss: 1.9393 - accuracy: 0.4882 - val_loss: 2.3976 - val_accuracy: 0.4004\n",
      "Epoch 8/10\n",
      "100/100 - 295s - loss: 1.5759 - accuracy: 0.5699 - val_loss: 2.3270 - val_accuracy: 0.4136\n",
      "Epoch 9/10\n",
      "100/100 - 306s - loss: 1.3892 - accuracy: 0.6144 - val_loss: 1.9157 - val_accuracy: 0.4992\n",
      "Epoch 10/10\n",
      "100/100 - 326s - loss: 1.1010 - accuracy: 0.6838 - val_loss: 1.8579 - val_accuracy: 0.5020\n"
     ]
    }
   ],
   "source": [
    "history = model.fit(\n",
    "      train_generator,\n",
    "      shuffle  = True,\n",
    "      steps_per_epoch=100,  # 2000 images = batch_size * steps\n",
    "      epochs=10,\n",
    "      validation_data=validation_generator,\n",
    "      validation_steps=50,  # 1000 images = batch_size * steps\n",
    "      verbose=2)\n",
    "\n",
    "# overfits to the training set, tests badly on val\n",
    "# added dropout to every layer, the model is shit now. accuracy < 20% on 5 epochs\n",
    "# reduced the dropout and removed the dropout from the final layer"
   ]
  },
  {
   "cell_type": "code",
   "execution_count": 23,
   "metadata": {},
   "outputs": [],
   "source": [
    "# saving the model for future use\n",
    "#model.save(\"fruits.h5\")\n",
    "from tensorflow.keras.models import load_model\n",
    "model = load_model(\"fruits.h5\")\n",
    "# model trained for  10 + 20 epochs, acc. about 75% on the validation set\n",
    "# 50 epochs, accuracy 77-80 on the validation set.\n",
    "# how can i test the accuracy on the test set? like what call do i need to pass to the api?"
   ]
  },
  {
   "cell_type": "code",
   "execution_count": 15,
   "metadata": {},
   "outputs": [
    {
     "name": "stdout",
     "output_type": "stream",
     "text": [
      "Epoch 71/100\n",
      "50/50 - 133s - loss: 0.1542 - accuracy: 0.9511 - val_loss: 0.4859 - val_accuracy: 0.8760\n",
      "Epoch 72/100\n",
      "50/50 - 129s - loss: 0.1636 - accuracy: 0.9494 - val_loss: 0.4554 - val_accuracy: 0.8840\n",
      "Epoch 73/100\n",
      "50/50 - 128s - loss: 0.1584 - accuracy: 0.9460 - val_loss: 0.4949 - val_accuracy: 0.8920\n",
      "Epoch 74/100\n",
      "50/50 - 127s - loss: 0.1344 - accuracy: 0.9544 - val_loss: 0.6028 - val_accuracy: 0.8400\n",
      "Epoch 75/100\n",
      "50/50 - 125s - loss: 0.1747 - accuracy: 0.9504 - val_loss: 0.5550 - val_accuracy: 0.8540\n",
      "Epoch 76/100\n",
      "50/50 - 125s - loss: 0.1544 - accuracy: 0.9536 - val_loss: 0.5407 - val_accuracy: 0.8680\n",
      "Epoch 77/100\n",
      "50/50 - 125s - loss: 0.2176 - accuracy: 0.9486 - val_loss: 0.7061 - val_accuracy: 0.8240\n",
      "Epoch 78/100\n",
      "50/50 - 123s - loss: 0.1890 - accuracy: 0.9452 - val_loss: 0.3209 - val_accuracy: 0.8940\n",
      "Epoch 79/100\n",
      "50/50 - 125s - loss: 0.3245 - accuracy: 0.9124 - val_loss: 0.5052 - val_accuracy: 0.8700\n",
      "Epoch 80/100\n",
      "50/50 - 125s - loss: 0.2410 - accuracy: 0.9340 - val_loss: 0.5510 - val_accuracy: 0.8520\n",
      "Epoch 81/100\n",
      "50/50 - 125s - loss: 0.2155 - accuracy: 0.9356 - val_loss: 0.9588 - val_accuracy: 0.7640\n",
      "Epoch 82/100\n",
      "50/50 - 121s - loss: 0.2376 - accuracy: 0.9288 - val_loss: 0.7989 - val_accuracy: 0.8060\n",
      "Epoch 83/100\n",
      "50/50 - 121s - loss: 0.1531 - accuracy: 0.9508 - val_loss: 0.8479 - val_accuracy: 0.8020\n",
      "Epoch 84/100\n",
      "50/50 - 120s - loss: 0.1818 - accuracy: 0.9452 - val_loss: 0.7955 - val_accuracy: 0.8160\n",
      "Epoch 85/100\n",
      "50/50 - 120s - loss: 0.1665 - accuracy: 0.9462 - val_loss: 0.7184 - val_accuracy: 0.8300\n",
      "Epoch 86/100\n",
      "50/50 - 119s - loss: 0.1317 - accuracy: 0.9600 - val_loss: 0.5375 - val_accuracy: 0.8400\n",
      "Epoch 87/100\n",
      "50/50 - 128s - loss: 0.1339 - accuracy: 0.9616 - val_loss: 0.4769 - val_accuracy: 0.8860\n",
      "Epoch 88/100\n",
      "50/50 - 124s - loss: 0.1771 - accuracy: 0.9436 - val_loss: 0.6342 - val_accuracy: 0.8540\n",
      "Epoch 89/100\n",
      "50/50 - 122s - loss: 0.1103 - accuracy: 0.9657 - val_loss: 0.6142 - val_accuracy: 0.8580\n",
      "Epoch 90/100\n",
      "50/50 - 138s - loss: 0.1387 - accuracy: 0.9620 - val_loss: 0.5445 - val_accuracy: 0.8660\n",
      "Epoch 91/100\n",
      "50/50 - 151s - loss: 0.1352 - accuracy: 0.9596 - val_loss: 0.5431 - val_accuracy: 0.9060\n",
      "Epoch 92/100\n",
      "50/50 - 133s - loss: 0.1589 - accuracy: 0.9560 - val_loss: 0.3897 - val_accuracy: 0.9080\n",
      "Epoch 93/100\n",
      "50/50 - 130s - loss: 0.1293 - accuracy: 0.9588 - val_loss: 0.3776 - val_accuracy: 0.8960\n",
      "Epoch 94/100\n",
      "50/50 - 132s - loss: 0.1159 - accuracy: 0.9644 - val_loss: 0.6933 - val_accuracy: 0.8360\n",
      "Epoch 95/100\n",
      "50/50 - 139s - loss: 0.1213 - accuracy: 0.9624 - val_loss: 0.5200 - val_accuracy: 0.8820\n",
      "Epoch 96/100\n",
      "50/50 - 150s - loss: 0.1099 - accuracy: 0.9632 - val_loss: 0.7029 - val_accuracy: 0.8300\n",
      "Epoch 97/100\n",
      "50/50 - 164s - loss: 0.1293 - accuracy: 0.9636 - val_loss: 0.7732 - val_accuracy: 0.8100\n",
      "Epoch 98/100\n",
      "50/50 - 183s - loss: 0.1471 - accuracy: 0.9576 - val_loss: 0.8341 - val_accuracy: 0.8140\n",
      "Epoch 99/100\n",
      "50/50 - 178s - loss: 0.0978 - accuracy: 0.9696 - val_loss: 1.2272 - val_accuracy: 0.7980\n",
      "Epoch 100/100\n",
      "50/50 - 178s - loss: 0.1510 - accuracy: 0.9592 - val_loss: 0.6281 - val_accuracy: 0.8700\n"
     ]
    }
   ],
   "source": [
    "# additional training\n",
    "history1 = model.fit(\n",
    "      train_generator,\n",
    "      steps_per_epoch=50, # Total number of steps (batches of samples) before declaring one epoch finished and starting the next epoch\n",
    "      epochs=100,\n",
    "      initial_epoch = 70,\n",
    "      validation_data=validation_generator,\n",
    "      shuffle = True, # this shuffles the data in the directories.\n",
    "      validation_steps=10, # Total number of steps (batches of samples) to draw before stopping when performing validation at the end of every epoch \n",
    "      verbose=2)"
   ]
  },
  {
   "cell_type": "code",
   "execution_count": 24,
   "metadata": {},
   "outputs": [
    {
     "data": {
      "image/png": "[encoded data removed]",
      "text/plain": [
       "<Figure size 432x288 with 1 Axes>"
      ]
     },
     "metadata": {
      "needs_background": "light"
     },
     "output_type": "display_data"
    },
    {
     "data": {
      "text/plain": [
       "<Figure size 432x288 with 0 Axes>"
      ]
     },
     "metadata": {},
     "output_type": "display_data"
    }
   ],
   "source": [
    "%matplotlib inline\n",
    "import matplotlib.pyplot as plt\n",
    "acc = history1.history['accuracy']\n",
    "val_acc = history1.history['val_accuracy']\n",
    "loss = history1.history['loss']\n",
    "val_loss = history1.history['val_loss']\n",
    "\n",
    "epochs = range(len(acc))\n",
    "\n",
    "plt.plot(epochs, acc, 'r', label='Training accuracy')\n",
    "plt.plot(epochs, val_acc, 'b', label='Validation accuracy')\n",
    "plt.title('Training and validation accuracy')\n",
    "plt.legend(loc=0)\n",
    "plt.figure()\n",
    "\n",
    "\n",
    "plt.show()"
   ]
  },
  {
   "cell_type": "code",
   "execution_count": 35,
   "metadata": {},
   "outputs": [
    {
     "name": "stdout",
     "output_type": "stream",
     "text": [
      "This image most likely belongs to Pear Abate with a 2.03 percent confidence.\n"
     ]
    }
   ],
   "source": [
    "# testing the saved h5 loaded model on a custom image and printing the prediction. \n",
    "\n",
    "import numpy as np\n",
    "from keras.preprocessing import image\n",
    "import keras\n",
    "\n",
    "img_height, img_width = 256, 256\n",
    "class_names = list(train_generator.class_indices.keys())\n",
    "\n",
    "#sunflower_path = os.path.abspath(\"fruits-360/Test/Cauliflower/9_100.jpg\")\n",
    "#sunflower_path = os.path.abspath(\"fruits-360/mah_test/coconut2.jpeg\")\n",
    "sunflower_path = os.path.abspath(\"fruits-360/test-multiple_fruits/salak.jpg\")\n",
    "\n",
    "#sunflower_url = \"https://storage.googleapis.com/download.tensorflow.org/example_images/592px-Red_sunflower.jpg\"\n",
    "#sunflower_path = tf.keras.utils.get_file('Red_sunflower', origin=sunflower_url)\n",
    "\n",
    "img = keras.preprocessing.image.load_img(\n",
    "    sunflower_path, target_size=(img_height, img_width)\n",
    ")\n",
    "img_array = keras.preprocessing.image.img_to_array(img)\n",
    "img_array = tf.expand_dims(img_array, 0) # Create a batch\n",
    "\n",
    "predictions = model.predict(img_array)\n",
    "score = tf.nn.softmax(predictions[0])\n",
    "\n",
    "print(\n",
    "    \"This image most likely belongs to {} with a {:.2f} percent confidence.\"\n",
    "    .format(class_names[np.argmax(score)], 100 * np.max(score))\n",
    ")"
   ]
  },
  {
   "cell_type": "code",
   "execution_count": 234,
   "metadata": {},
   "outputs": [],
   "source": [
    "# saving a model with json. h5 does everything i might need it to do, but still. here's the code for that\n",
    "model_json = model.to_json()\n",
    "with open(\"model.json\", \"w\") as json_file:\n",
    "    json_file.write(model_json)\n",
    "    \n",
    "model_loaded = tf.keras.models.model_from_json(\"~/model_json\")\n",
    "\n",
    "model.save_weights(\"model.h5\")"
   ]
  },
  {
   "cell_type": "code",
   "execution_count": null,
   "metadata": {},
   "outputs": [],
   "source": [
    "# https://cv-tricks.com/tensorflow-tutorial/save-restore-tensorflow-models-quick-complete-tutorial/\n",
    "# backing the model up every 2 hours while it's training"
   ]
  },
  {
   "cell_type": "code",
   "execution_count": 50,
   "metadata": {},
   "outputs": [
    {
     "name": "stdout",
     "output_type": "stream",
     "text": [
      "Evaluate on test data\n"
     ]
    },
    {
     "ename": "NameError",
     "evalue": "name 'x_test' is not defined",
     "output_type": "error",
     "traceback": [
      "\u001b[0;31m---------------------------------------------------------------------------\u001b[0m",
      "\u001b[0;31mNameError\u001b[0m                                 Traceback (most recent call last)",
      "\u001b[0;32m<ipython-input-50-c3bc8193098b>\u001b[0m in \u001b[0;36m<module>\u001b[0;34m\u001b[0m\n\u001b[1;32m      1\u001b[0m \u001b[0;31m# Evaluate the model on the test data using `evaluate`\u001b[0m\u001b[0;34m\u001b[0m\u001b[0;34m\u001b[0m\u001b[0m\n\u001b[1;32m      2\u001b[0m \u001b[0mprint\u001b[0m\u001b[0;34m(\u001b[0m\u001b[0;34m\"Evaluate on test data\"\u001b[0m\u001b[0;34m)\u001b[0m\u001b[0;34m\u001b[0m\u001b[0m\n\u001b[0;32m----> 3\u001b[0;31m \u001b[0mresults\u001b[0m \u001b[0;34m=\u001b[0m \u001b[0mmodel\u001b[0m\u001b[0;34m.\u001b[0m\u001b[0mevaluate\u001b[0m\u001b[0;34m(\u001b[0m\u001b[0mx_test\u001b[0m\u001b[0;34m,\u001b[0m \u001b[0my_test\u001b[0m\u001b[0;34m,\u001b[0m \u001b[0mbatch_size\u001b[0m\u001b[0;34m=\u001b[0m\u001b[0;36m128\u001b[0m\u001b[0;34m)\u001b[0m\u001b[0;34m\u001b[0m\u001b[0m\n\u001b[0m\u001b[1;32m      4\u001b[0m \u001b[0mprint\u001b[0m\u001b[0;34m(\u001b[0m\u001b[0;34m\"test loss, test acc:\"\u001b[0m\u001b[0;34m,\u001b[0m \u001b[0mresults\u001b[0m\u001b[0;34m)\u001b[0m\u001b[0;34m\u001b[0m\u001b[0m\n\u001b[1;32m      5\u001b[0m \u001b[0;34m\u001b[0m\u001b[0m\n",
      "\u001b[0;31mNameError\u001b[0m: name 'x_test' is not defined"
     ]
    }
   ],
   "source": [
    "# Evaluate the model on the test data using `evaluate`\n",
    "print(\"Evaluate on test data\")\n",
    "results = model.evaluate(x_test, y_test, batch_size=128)\n",
    "print(\"test loss, test acc:\", results)\n",
    "\n",
    "# Generate predictions (probabilities -- the output of the last layer)\n",
    "# on new data using `predict`\n",
    "print(\"Generate predictions for 3 samples\")\n",
    "predictions = model.predict(x_test[:3])\n",
    "print(\"predictions shape:\", predictions.shape)"
   ]
  },
  {
   "cell_type": "code",
   "execution_count": 51,
   "metadata": {},
   "outputs": [
    {
     "ename": "NameError",
     "evalue": "name 'test_dataset' is not defined",
     "output_type": "error",
     "traceback": [
      "\u001b[0;31m---------------------------------------------------------------------------\u001b[0m",
      "\u001b[0;31mNameError\u001b[0m                                 Traceback (most recent call last)",
      "\u001b[0;32m<ipython-input-51-00642daca519>\u001b[0m in \u001b[0;36m<module>\u001b[0;34m\u001b[0m\n\u001b[1;32m      1\u001b[0m \u001b[0mtest_accuracy\u001b[0m \u001b[0;34m=\u001b[0m \u001b[0mtf\u001b[0m\u001b[0;34m.\u001b[0m\u001b[0mkeras\u001b[0m\u001b[0;34m.\u001b[0m\u001b[0mmetrics\u001b[0m\u001b[0;34m.\u001b[0m\u001b[0mAccuracy\u001b[0m\u001b[0;34m(\u001b[0m\u001b[0;34m)\u001b[0m\u001b[0;34m\u001b[0m\u001b[0m\n\u001b[1;32m      2\u001b[0m \u001b[0;34m\u001b[0m\u001b[0m\n\u001b[0;32m----> 3\u001b[0;31m \u001b[0;32mfor\u001b[0m \u001b[0;34m(\u001b[0m\u001b[0mx\u001b[0m\u001b[0;34m,\u001b[0m \u001b[0my\u001b[0m\u001b[0;34m)\u001b[0m \u001b[0;32min\u001b[0m \u001b[0mtest_dataset\u001b[0m\u001b[0;34m:\u001b[0m\u001b[0;34m\u001b[0m\u001b[0m\n\u001b[0m\u001b[1;32m      4\u001b[0m   \u001b[0;31m# training=False is needed only if there are layers with different\u001b[0m\u001b[0;34m\u001b[0m\u001b[0;34m\u001b[0m\u001b[0m\n\u001b[1;32m      5\u001b[0m   \u001b[0;31m# behavior during training versus inference (e.g. Dropout).\u001b[0m\u001b[0;34m\u001b[0m\u001b[0;34m\u001b[0m\u001b[0m\n",
      "\u001b[0;31mNameError\u001b[0m: name 'test_dataset' is not defined"
     ]
    }
   ],
   "source": [
    "test_accuracy = tf.keras.metrics.Accuracy()\n",
    "\n",
    "for (x, y) in test_dataset:\n",
    "  # training=False is needed only if there are layers with different\n",
    "  # behavior during training versus inference (e.g. Dropout).\n",
    "  logits = model(x, training=False)\n",
    "  prediction = tf.argmax(logits, axis=1, output_type=tf.int32)\n",
    "  test_accuracy(prediction, y)\n",
    "\n",
    "print(\"Test set accuracy: {:.3%}\".format(test_accuracy.result()))"
   ]
  },
  {
   "cell_type": "code",
   "execution_count": 52,
   "metadata": {},
   "outputs": [
    {
     "name": "stdout",
     "output_type": "stream",
     "text": [
      "--2020-09-02 08:42:49--  https://raw.githubusercontent.com/AnnBkrv/dlaicourse/master/TensorFlow%20Deployment/Course%202%20-%20TensorFlow%20Lite/Week%203/Examples/iOS%20Apps/cats_vs_dogs/Podfile\n",
      "Resolving raw.githubusercontent.com... 151.101.12.133\n",
      "Connecting to raw.githubusercontent.com|151.101.12.133|:443... connected.\n",
      "HTTP request sent, awaiting response... 200 OK\n",
      "Length: 317 [text/plain]\n",
      "Saving to: 'Podfile'\n",
      "\n",
      "Podfile             100%[===================>]     317  --.-KB/s    in 0s      \n",
      "\n",
      "2020-09-02 08:42:50 (8.40 MB/s) - 'Podfile' saved [317/317]\n",
      "\n"
     ]
    }
   ],
   "source": [
    "# unrelated, this is for the app project\n",
    "!wget \"https://raw.githubusercontent.com/AnnBkrv/dlaicourse/master/TensorFlow%20Deployment/Course%202%20-%20TensorFlow%20Lite/Week%203/Examples/iOS%20Apps/cats_vs_dogs/Podfile\""
   ]
  },
  {
   "cell_type": "code",
   "execution_count": null,
   "metadata": {},
   "outputs": [],
   "source": []
  }
 ],
 "metadata": {
  "kernelspec": {
   "display_name": "Python 3",
   "language": "python",
   "name": "python3"
  },
  "language_info": {
   "codemirror_mode": {
    "name": "ipython",
    "version": 3
   },
   "file_extension": ".py",
   "mimetype": "text/x-python",
   "name": "python",
   "nbconvert_exporter": "python",
   "pygments_lexer": "ipython3",
   "version": "3.7.0"
  }
 },
 "nbformat": 4,
 "nbformat_minor": 4
}
